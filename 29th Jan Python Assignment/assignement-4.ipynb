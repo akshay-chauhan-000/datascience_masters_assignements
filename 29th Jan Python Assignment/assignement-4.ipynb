{
 "cells": [
  {
   "cell_type": "markdown",
   "metadata": {},
   "source": [
    "1. Who developed Python Programming Language?\n",
    "Python was developed by Guido van Rossum."
   ]
  },
  {
   "cell_type": "markdown",
   "metadata": {},
   "source": [
    "2. Which type of Programming does Python support? \n",
    "Python supports object-oriented, imperative, functional, and procedural programming."
   ]
  },
  {
   "cell_type": "markdown",
   "metadata": {},
   "source": [
    " 3. Is Python case sensitive when dealing with identifiers? Yes, Python is case sensitive when dealing with identifiers."
   ]
  },
  {
   "cell_type": "markdown",
   "metadata": {},
   "source": [
    "4. What is the correct extension of the Python file? The correct extension for Python files is .py."
   ]
  },
  {
   "cell_type": "markdown",
   "metadata": {},
   "source": [
    "5. Is Python code compiled or interpreted? Python code is interpreted."
   ]
  },
  {
   "cell_type": "markdown",
   "metadata": {},
   "source": [
    "6. Name a few blocks of code used to define in Python language?  Blocks of code in Python are defined using indentation."
   ]
  },
  {
   "cell_type": "markdown",
   "metadata": {},
   "source": [
    "7. State a character used to give single-line comments in Python? The character # is used to give single-line comments in Python."
   ]
  },
  {
   "cell_type": "markdown",
   "metadata": {},
   "source": [
    "8. Mention functions which can help us to find the version of python that we are currently working on? The sys module's sys.version function can be used to find the version of Python"
   ]
  },
  {
   "cell_type": "markdown",
   "metadata": {},
   "source": [
    "9. Python supports the creation of anonymous functions at runtime, using a construct called  lambda construct.\n"
   ]
  },
  {
   "cell_type": "markdown",
   "metadata": {},
   "source": [
    "10. What does pip stand for python? pip stands for \"Pip Installs Packages.\""
   ]
  },
  {
   "cell_type": "markdown",
   "metadata": {},
   "source": [
    "11. Mention a few built-in functions in python? Some built-in functions in Python include print(), len(), input(), range(), sum(), etc."
   ]
  },
  {
   "cell_type": "markdown",
   "metadata": {},
   "source": [
    "12. What is the maximum possible length of an identitior in Python? The maximum possible length of an identifier in Python is not explicitly defined. However, it is recommended to keep it reasonably short for readability."
   ]
  },
  {
   "cell_type": "markdown",
   "metadata": {},
   "source": [
    "13. What arc the benefits of using Python? Benefits of using Python include its simplicity, readability, extensive standard library, platform independence, and a large community of developers."
   ]
  },
  {
   "cell_type": "markdown",
   "metadata": {},
   "source": [
    "14. How is memory managed in Python? Memory management in Python is handled by the Python memory manager, which handles the allocation and deallocation of memory for Python objects."
   ]
  },
  {
   "cell_type": "markdown",
   "metadata": {},
   "source": [
    "15. How to install Python on Windows and set path variables? To install Python on Windows, you can download the installer from the official Python website and run it. During installation, make sure to check the option to add Python to the system PATH variable."
   ]
  },
  {
   "cell_type": "markdown",
   "metadata": {},
   "source": [
    "16. Is indentation required in python? Yes, indentation is required in Python. It is used to define blocks of code, and the level of indentation determines the grouping of statements."
   ]
  },
  {
   "cell_type": "markdown",
   "metadata": {},
   "source": []
  }
 ],
 "metadata": {
  "language_info": {
   "name": "python"
  }
 },
 "nbformat": 4,
 "nbformat_minor": 2
}
