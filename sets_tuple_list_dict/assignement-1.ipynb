{
 "cells": [
  {
   "cell_type": "markdown",
   "metadata": {},
   "source": [
    "Q1. What are the characteristics of the tuples? Is tuple immutable?"
   ]
  },
  {
   "cell_type": "markdown",
   "metadata": {},
   "source": [
    "Tuples are a data structure in Python that can hold a collection of items. Here are some characteristics of tuples:\n",
    "\n",
    "1. **Ordered**: Tuples are ordered, which means the items have a specific position and can be accessed by their indices.\n",
    "\n",
    "2. **Heterogeneous Elements**: Tuples can hold elements of different types. For example, a tuple can contain integers, strings, and other data types.\n",
    "\n",
    "3. **Immutable**: Tuples are immutable, which means their elements cannot be modified after creation. Once a tuple is created, you cannot change the value of its elements.\n",
    "\n",
    "   Example:\n",
    "   ```python\n",
    "   my_tuple = (1, 2, 3)\n",
    "   my_tuple[0] = 4  # This will raise an error because tuples are immutable\n",
    "   ```\n",
    "\n",
    "4. **Allows Duplicates**: Tuples can contain duplicate elements.\n",
    "\n",
    "5. **Allows Nesting**: Tuples can be nested within each other.\n",
    "\n",
    "6. **Can be Used as Dictionary Keys**: Since tuples are immutable, they can be used as keys in dictionaries.\n",
    "\n",
    "7. **Less Flexible Than Lists**: Tuples are less flexible compared to lists due to their immutability. They are suitable for situations where you want to ensure the data remains unchanged.\n",
    "\n",
    "8. **Faster Than Lists**: Because of their immutability, tuples are generally faster than lists for certain operations.\n"
   ]
  },
  {
   "cell_type": "markdown",
   "metadata": {},
   "source": [
    " Q2. What are the two tuple methods in python? Give an example of each method. Give a reason why tuples have only two in-built methods as compared to Lists?"
   ]
  },
  {
   "cell_type": "markdown",
   "metadata": {},
   "source": [
    "In Python, tuples are immutable sequences, meaning their elements cannot be modified after creation. There are two built-in methods specifically designed for tuples:\n",
    "\n",
    "count(): This method returns the number of occurrences of a specified value in the tuple.\n",
    "\n",
    "Example:"
   ]
  },
  {
   "cell_type": "code",
   "execution_count": 2,
   "metadata": {},
   "outputs": [
    {
     "name": "stdout",
     "output_type": "stream",
     "text": [
      "3\n"
     ]
    }
   ],
   "source": [
    "my_tuple = (1, 2, 3, 1, 4, 1)\n",
    "count_of_ones = my_tuple.count(1)\n",
    "print(count_of_ones)  # Output: 3\n"
   ]
  },
  {
   "cell_type": "markdown",
   "metadata": {},
   "source": [
    "index(): This method returns the index of the first occurrence of a specified value in the tuple.\n",
    "\n",
    "Example:"
   ]
  },
  {
   "cell_type": "code",
   "execution_count": 3,
   "metadata": {},
   "outputs": [
    {
     "name": "stdout",
     "output_type": "stream",
     "text": [
      "2\n"
     ]
    }
   ],
   "source": [
    "my_tuple = (10, 20, 30, 40, 50, 10)\n",
    "index_of_30 = my_tuple.index(30)\n",
    "print(index_of_30)  # Output: 2\n"
   ]
  },
  {
   "cell_type": "markdown",
   "metadata": {},
   "source": [
    "Tuples are designed to be lightweight and optimized for specific use cases. They are immutable, which means they cannot be changed after creation. This immutability allows for more efficient memory management and faster access times compared to lists.\n",
    "\n",
    "Since tuples are meant to be simple and unchangeable, they do not require a large number of methods. In contrast, lists are mutable, meaning they can be altered, appended to, or sliced, which necessitates a larger set of methods for manipulation. This includes methods like append(), extend(), remove(), pop(), insert(), and more.\n",
    "\n",
    "In summary, tuples serve a specific purpose: to represent collections of items that should not be modified. This simplicity allows for optimization, while lists are designed for more dynamic data manipulation, thus requiring a wider range of methods."
   ]
  },
  {
   "cell_type": "markdown",
   "metadata": {},
   "source": [
    "3. Which collection datatypes in python do not allow duplicate items? Write a code using a set to remove duplicates from the given list.\n",
    "List = [1, 1, 1, 2, 1, 3, 1, 4, 2, 1, 2, 2, 2, 3, 2, 4, 3, 1, 3, 2, 3, 3, 3, 4, 4, 1, 4, 2, 4, 3, 4, 4]"
   ]
  },
  {
   "cell_type": "markdown",
   "metadata": {},
   "source": [
    "In Python, the collection datatype that does not allow duplicate items is the set.\n",
    "\n",
    "Here's a code snippet to remove duplicates from the given list:"
   ]
  },
  {
   "cell_type": "code",
   "execution_count": 4,
   "metadata": {},
   "outputs": [
    {
     "name": "stdout",
     "output_type": "stream",
     "text": [
      "[1, 2, 3, 4]\n"
     ]
    }
   ],
   "source": [
    "my_list = [1, 1, 1, 2, 1, 3, 1, 4, 2, 1, 2, 2, 2, 3, 2, 4, 3, 1, 3, 2, 3, 3, 3, 4, 4, 1, 4, 2, 4, 3, 4, 4]\n",
    "\n",
    "# Convert the list to a set (sets automatically remove duplicates)\n",
    "unique_items = set(my_list)\n",
    "\n",
    "# Convert the set back to a list (if needed)\n",
    "unique_list = list(unique_items)\n",
    "\n",
    "print(unique_list)\n"
   ]
  },
  {
   "cell_type": "markdown",
   "metadata": {},
   "source": [
    "Q4. Explain the difference between the union() and update() methods for a set. Give an example of\n",
    "each method."
   ]
  },
  {
   "cell_type": "markdown",
   "metadata": {},
   "source": [
    "The union() and update() methods in Python sets are used to combine elements from multiple sets. However, they differ in their behavior:\n",
    "\n",
    "union() Method:\n",
    "\n",
    "The union() method returns a new set containing all the unique elements from the original sets.\n",
    "It does not modify the original sets.\n",
    "It can take multiple sets as arguments."
   ]
  },
  {
   "cell_type": "code",
   "execution_count": 5,
   "metadata": {},
   "outputs": [
    {
     "name": "stdout",
     "output_type": "stream",
     "text": [
      "{1, 2, 3, 4, 5}\n",
      "{1, 2, 3}\n",
      "{3, 4, 5}\n"
     ]
    }
   ],
   "source": [
    "set1 = {1, 2, 3}\n",
    "set2 = {3, 4, 5}\n",
    "\n",
    "# Using the union() method\n",
    "result_set = set1.union(set2)\n",
    "\n",
    "print(result_set)  # Output: {1, 2, 3, 4, 5}\n",
    "print(set1)        # Output: {1, 2, 3} (Original set1 is not modified)\n",
    "print(set2)        # Output: {3, 4, 5} (Original set2 is not modified)\n"
   ]
  },
  {
   "cell_type": "markdown",
   "metadata": {},
   "source": [
    "update() Method:\n",
    "\n",
    "The update() method adds all elements from another set (or any iterable) to the set it is called on.\n",
    "It modifies the original set."
   ]
  },
  {
   "cell_type": "code",
   "execution_count": 6,
   "metadata": {},
   "outputs": [
    {
     "name": "stdout",
     "output_type": "stream",
     "text": [
      "{1, 2, 3, 4, 5}\n",
      "{3, 4, 5}\n"
     ]
    }
   ],
   "source": [
    "set1 = {1, 2, 3}\n",
    "set2 = {3, 4, 5}\n",
    "\n",
    "# Using the update() method\n",
    "set1.update(set2)\n",
    "\n",
    "print(set1)  # Output: {1, 2, 3, 4, 5} (Original set1 is modified)\n",
    "print(set2)  # Output: {3, 4, 5} (Original set2 remains unchanged)\n"
   ]
  },
  {
   "cell_type": "markdown",
   "metadata": {},
   "source": [
    "Q5. What is a dictionary? Give an example. Also, state whether a dictionary is ordered or unordered."
   ]
  },
  {
   "cell_type": "markdown",
   "metadata": {},
   "source": [
    "A dictionary in Python is a collection of key-value pairs, where each key is associated with a specific value. It is also known as an associative array, hash map, or simply a map in some programming languages. Dictionaries are highly efficient for retrieving, updating, and storing data.\n",
    "\n",
    "Example:\n",
    "\n"
   ]
  },
  {
   "cell_type": "code",
   "execution_count": 8,
   "metadata": {},
   "outputs": [
    {
     "name": "stdout",
     "output_type": "stream",
     "text": [
      "John Doe\n",
      "25\n",
      "{'math': 90, 'science': 85, 'english': 95}\n",
      "90\n",
      "{'name': 'John Doe', 'age': 26, 'major': 'Data Science', 'country': 'USA'}\n"
     ]
    }
   ],
   "source": [
    "# Creating a dictionary\n",
    "student = {\n",
    "    'name': 'John Doe',\n",
    "    'age': 25,\n",
    "    'major': 'Computer Science',\n",
    "    'grades': {'math': 90, 'science': 85, 'english': 95}\n",
    "}\n",
    "\n",
    "# Accessing values using keys\n",
    "print(student['name'])      # Output: John Doe\n",
    "print(student['age'])       # Output: 25\n",
    "print(student['grades'])    # Output: {'math': 90, 'science': 85, 'english': 95}\n",
    "\n",
    "# Accessing values in nested dictionary\n",
    "print(student['grades']['math'])  # Output: 90\n",
    "\n",
    "# Modifying values\n",
    "student['age'] = 26\n",
    "student['major'] = 'Data Science'\n",
    "\n",
    "# Adding a new key-value pair\n",
    "student['country'] = 'USA'\n",
    "\n",
    "# Removing a key-value pair\n",
    "del student['grades']\n",
    "\n",
    "print(student)\n",
    "\n"
   ]
  },
  {
   "cell_type": "markdown",
   "metadata": {},
   "source": [
    "Q6. Can we create a nested dictionary? If so, please give an example by creating a simple one-level\n",
    "nested dictionary."
   ]
  },
  {
   "cell_type": "markdown",
   "metadata": {},
   "source": [
    "Yes, we can create nested dictionaries in Python. A nested dictionary is a dictionary that contains one or more dictionaries as values. This allows for a hierarchical structure where you can access values using multiple keys.\n",
    "\n",
    "Here's an example of a one-level nested dictionary:"
   ]
  },
  {
   "cell_type": "code",
   "execution_count": 9,
   "metadata": {},
   "outputs": [
    {
     "name": "stdout",
     "output_type": "stream",
     "text": [
      "john@example.com\n",
      "90\n"
     ]
    }
   ],
   "source": [
    "# Creating a nested dictionary\n",
    "student = {\n",
    "    'name': 'John Doe',\n",
    "    'age': 25,\n",
    "    'contact': {\n",
    "        'email': 'john@example.com',\n",
    "        'phone': '555-555-5555'\n",
    "    },\n",
    "    'grades': {'math': 90, 'science': 85, 'english': 95}\n",
    "}\n",
    "\n",
    "# Accessing values in the nested dictionary\n",
    "print(student['contact']['email'])  # Output: john@example.com\n",
    "print(student['grades']['math'])    # Output: 90\n"
   ]
  },
  {
   "cell_type": "markdown",
   "metadata": {},
   "source": [
    "Q7. Q7. Using setdefault() method, create key named topics in the given dictionary and also add the value of\n",
    "the key as this list ['Python', 'Machine Learning’, 'Deep Learning']\n",
    "dict1 = {'language' : 'Python', 'course': 'Data Science Masters'}"
   ]
  },
  {
   "cell_type": "markdown",
   "metadata": {},
   "source": [
    "The setdefault() method allows you to insert a key-value pair into a dictionary if the key doesn't already exist. If the key does exist, it returns the value associated with that key."
   ]
  },
  {
   "cell_type": "code",
   "execution_count": 11,
   "metadata": {},
   "outputs": [
    {
     "name": "stdout",
     "output_type": "stream",
     "text": [
      "{'language': 'Python', 'course': 'Data Science Masters', 'topics': ['Python', 'Machine Learning', 'Deep Learning']}\n"
     ]
    }
   ],
   "source": [
    "# Given dictionary\n",
    "dict1 = {'language': 'Python', 'course': 'Data Science Masters'}\n",
    "\n",
    "# Using setdefault() to add the 'topics' key with the specified value\n",
    "dict1.setdefault('topics', ['Python', 'Machine Learning', 'Deep Learning'])\n",
    "\n",
    "print(dict1)\n"
   ]
  },
  {
   "cell_type": "markdown",
   "metadata": {},
   "source": [
    "Q8. What are the three view objects in dictionaries? Use the three in-built methods in python to display\n",
    "these three view objects for the given dictionary.\n",
    "dict1 = {'Sport': 'Cricket' , 'Teams': ['India', 'Australia', 'England', 'South Africa', 'Sri Lanka', 'New Zealand']}"
   ]
  },
  {
   "cell_type": "markdown",
   "metadata": {},
   "source": [
    "In Python, dictionaries have three view objects:\n",
    "\n",
    "dict_keys: This view contains the keys of the dictionary.\n",
    "dict_values: This view contains the values of the dictionary.\n",
    "dict_items: This view contains tuples of key-value pairs.\n",
    "Here's how you can use the three built-in methods (keys(), values(), and items()) to display these view objects for the given dictionary dict1:"
   ]
  },
  {
   "cell_type": "code",
   "execution_count": 12,
   "metadata": {},
   "outputs": [
    {
     "name": "stdout",
     "output_type": "stream",
     "text": [
      "Keys View: dict_keys(['Sport', 'Teams'])\n",
      "Values View: dict_values(['Cricket', ['India', 'Australia', 'England', 'South Africa', 'Sri Lanka', 'New Zealand']])\n",
      "Items View: dict_items([('Sport', 'Cricket'), ('Teams', ['India', 'Australia', 'England', 'South Africa', 'Sri Lanka', 'New Zealand'])])\n"
     ]
    }
   ],
   "source": [
    "# Given dictionary\n",
    "dict1 = {'Sport': 'Cricket', 'Teams': ['India', 'Australia', 'England', 'South Africa', 'Sri Lanka', 'New Zealand']}\n",
    "\n",
    "# Get the view objects\n",
    "keys_view = dict1.keys()\n",
    "values_view = dict1.values()\n",
    "items_view = dict1.items()\n",
    "\n",
    "# Display the view objects\n",
    "print(\"Keys View:\", keys_view)\n",
    "print(\"Values View:\", values_view)\n",
    "print(\"Items View:\", items_view)\n"
   ]
  },
  {
   "cell_type": "markdown",
   "metadata": {},
   "source": []
  }
 ],
 "metadata": {
  "kernelspec": {
   "display_name": "Python 3",
   "language": "python",
   "name": "python3"
  },
  "language_info": {
   "codemirror_mode": {
    "name": "ipython",
    "version": 3
   },
   "file_extension": ".py",
   "mimetype": "text/x-python",
   "name": "python",
   "nbconvert_exporter": "python",
   "pygments_lexer": "ipython3",
   "version": "3.11.5"
  },
  "orig_nbformat": 4
 },
 "nbformat": 4,
 "nbformat_minor": 2
}
