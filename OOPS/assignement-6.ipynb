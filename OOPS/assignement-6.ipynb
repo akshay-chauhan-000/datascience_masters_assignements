{
 "cells": [
  {
   "cell_type": "markdown",
   "metadata": {},
   "source": [
    "Q1. Explain Class and Object with respect to Object-Oriented Programming. Give a suitable example.\n"
   ]
  },
  {
   "cell_type": "markdown",
   "metadata": {},
   "source": [
    "**Class:** \n",
    "A class is a blueprint or template for creating objects. It defines the attributes (data) and methods (functions) that the objects of the class will have. In simpler terms, a class is like a blueprint that describes the properties and behaviors that an object of that class will have.\n",
    "\n",
    "**Object:**\n",
    "An object is an instance of a class. It is a concrete entity created from a class and represents a specific instance of that class. An object has its own set of attributes and can perform actions (methods) defined by the class.\n",
    "\n",
    "*Example:*\n",
    "\n",
    "Let's consider a class named `Car`. It could have attributes like `color`, `make`, `model`, and methods like `start_engine`, `accelerate`, `brake`.\n",
    "\n",
    "```python\n",
    "class Car:\n",
    "    def __init__(self, color, make, model):\n",
    "        self.color = color\n",
    "        self.make = make\n",
    "        self.model = model\n",
    "    \n",
    "    def start_engine(self):\n",
    "        print(f\"The {self.color} {self.make} {self.model} is now running.\")\n",
    "    \n",
    "    def accelerate(self):\n",
    "        print(f\"The {self.color} {self.make} {self.model} is accelerating.\")\n",
    "    \n",
    "    def brake(self):\n",
    "        print(f\"The {self.color} {self.make} {self.model} is braking.\")\n",
    "```\n",
    "\n",
    "Now, we can create objects of the `Car` class:\n",
    "\n",
    "```python\n",
    "car1 = Car(\"Red\", \"Toyota\", \"Camry\")\n",
    "car2 = Car(\"Blue\", \"Honda\", \"Civic\")\n",
    "\n",
    "car1.start_engine()  # Output: The Red Toyota Camry is now running.\n",
    "car2.accelerate()    # Output: The Blue Honda Civic is accelerating.\n",
    "```"
   ]
  },
  {
   "cell_type": "markdown",
   "metadata": {},
   "source": [
    "Q2. Name the four pillars of OOPs.\n",
    "."
   ]
  },
  {
   "cell_type": "markdown",
   "metadata": {},
   "source": [
    "\n",
    "The four pillars of Object-Oriented Programming (OOP) are:\n",
    "\n",
    "1. **Encapsulation:** It refers to the bundling of data (attributes) and the methods that operate on that data within a single unit, called a class. It helps in controlling the accessibility and visibility of the data.\n",
    "\n",
    "2. **Inheritance:** It is a mechanism where a class can inherit attributes and behaviors from another class. It allows the creation of a new class based on an existing class.\n",
    "\n",
    "3. **Polymorphism:** It means having multiple forms. In OOP, polymorphism allows objects to behave differently based on their data types or classes. It allows a single function or method to work with different types of input.\n",
    "\n",
    "4. **Abstraction:** It involves hiding the implementation details of an object and exposing only the relevant features or functionalities. It allows the user to interact with the object without needing to know how it's implemented internally."
   ]
  },
  {
   "cell_type": "markdown",
   "metadata": {},
   "source": [
    "Q3. Explain why the __init__() function is used. Give a suitable example.\n"
   ]
  },
  {
   "cell_type": "markdown",
   "metadata": {},
   "source": [
    "The `__init__()` function is a special method in Python that is automatically called when a new object is created from a class. It is used to initialize the object's attributes or perform any setup that needs to be done when the object is created.\n",
    "\n",
    "*Example:*\n",
    "\n",
    "```python\n",
    "class Person:\n",
    "    def __init__(self, name, age):\n",
    "        self.name = name\n",
    "        self.age = age\n",
    "\n",
    "person1 = Person(\"John Doe\", 30)\n",
    "print(person1.name)  # Output: John Doe\n",
    "print(person1.age)   # Output: 30\n",
    "```\n",
    "\n",
    "In this example, the `__init__()` method initializes the `name` and `age` attributes of a `Person` object. When we create a `Person` object (`person1`), we pass the values for `name` and `age` as arguments, which are then used to set the corresponding attributes."
   ]
  },
  {
   "cell_type": "markdown",
   "metadata": {},
   "source": [
    "Q4. Why self is used in OOPs?\n"
   ]
  },
  {
   "cell_type": "markdown",
   "metadata": {},
   "source": [
    "`self` is a convention used in object-oriented programming (OOP) in Python to represent the instance of a class. It allows you to refer to the attributes and methods of an object within the class.\n",
    "\n",
    "For example, when you define a method in a class, you use `self` as the first parameter. This allows you to access the attributes and methods of that instance within the method."
   ]
  },
  {
   "cell_type": "markdown",
   "metadata": {},
   "source": [
    "Q5. What is inheritance? Give an example for each type of inheritance"
   ]
  },
  {
   "cell_type": "markdown",
   "metadata": {},
   "source": [
    "**Inheritance** is a fundamental concept in object-oriented programming that allows one class (subclass) to inherit attributes and behaviors from another class (superclass). It allows for code reuse and the creation of specialized classes based on existing ones.\n",
    "\n",
    "There are different types of inheritance:\n",
    "\n",
    "1. **Single Inheritance:** A subclass inherits from only one superclass.\n",
    "\n",
    "   ```python\n",
    "   class Animal:\n",
    "       def sound(self):\n",
    "           print(\"Some generic sound\")\n",
    "\n",
    "   class Dog(Animal):\n",
    "       def sound(self):\n",
    "           print(\"Bark\")\n",
    "\n",
    "   dog = Dog()\n",
    "   dog.sound()  # Output: Bark\n",
    "   ```\n",
    "\n",
    "2. **Multiple Inheritance:** A subclass inherits from multiple superclasses.\n",
    "\n",
    "   ```python\n",
    "   class A:\n",
    "       def method(self):\n",
    "           print(\"Class A\")\n",
    "\n",
    "   class B:\n",
    "       def method(self):\n",
    "\n",
    "\n",
    "           print(\"Class B\")\n",
    "\n",
    "   class C(A, B):\n",
    "       pass\n",
    "\n",
    "   c = C()\n",
    "   c.method()  # Output: Class A\n",
    "   ```\n",
    "\n",
    "3. **Multilevel Inheritance:** A subclass inherits from another subclass.\n",
    "\n",
    "   ```python\n",
    "   class A:\n",
    "       def method(self):\n",
    "           print(\"Class A\")\n",
    "\n",
    "   class B(A):\n",
    "       pass\n",
    "\n",
    "   class C(B):\n",
    "       pass\n",
    "\n",
    "   c = C()\n",
    "   c.method()  # Output: Class A\n",
    "   ```\n",
    "\n",
    "4. **Hierarchical Inheritance:** Multiple subclasses inherit from a single superclass.\n",
    "\n",
    "   ```python\n",
    "   class Animal:\n",
    "       def sound(self):\n",
    "           print(\"Some generic sound\")\n",
    "\n",
    "   class Dog(Animal):\n",
    "       def sound(self):\n",
    "           print(\"Bark\")\n",
    "\n",
    "   class Cat(Animal):\n",
    "       def sound(self):\n",
    "           print(\"Meow\")\n",
    "\n",
    "   dog = Dog()\n",
    "   cat = Cat()\n",
    "   dog.sound()  # Output: Bark\n",
    "   cat.sound()  # Output: Meow\n",
    "   ```"
   ]
  },
  {
   "cell_type": "code",
   "execution_count": null,
   "metadata": {},
   "outputs": [],
   "source": []
  }
 ],
 "metadata": {
  "kernelspec": {
   "display_name": "Python 3",
   "language": "python",
   "name": "python3"
  },
  "language_info": {
   "name": "python",
   "version": "3.11.5"
  }
 },
 "nbformat": 4,
 "nbformat_minor": 2
}
