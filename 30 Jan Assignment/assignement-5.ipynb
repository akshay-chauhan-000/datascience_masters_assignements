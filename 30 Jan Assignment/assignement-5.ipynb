{
 "cells": [
  {
   "cell_type": "markdown",
   "metadata": {},
   "source": [
    "1. Write a program to accept percentage from the user and display tho grade according to the following criteria: \n",
    "<table>\n",
    "  <tr>\n",
    "    <th>Marks</th>\n",
    "    <th>Grade</th>\n",
    "  </tr>\n",
    "  <tr>\n",
    "    <td>90+</td>\n",
    "    <td>A</td>\n",
    "  </tr>\n",
    "  <tr>\n",
    "    <td>80 - 90</td>\n",
    "    <td>B</td>\n",
    "  </tr>\n",
    "  <tr>\n",
    "    <td>60 - 80</td>\n",
    "    <td>C</td>\n",
    "  </tr>\n",
    "  <tr>\n",
    "    <td>Below 60</td>\n",
    "    <td>D</td>\n",
    "  </tr>\n",
    "</table>\n"
   ]
  },
  {
   "cell_type": "code",
   "execution_count": 1,
   "metadata": {},
   "outputs": [
    {
     "name": "stdout",
     "output_type": "stream",
     "text": [
      "Grade: C\n"
     ]
    }
   ],
   "source": [
    "def get_grade(percentage):\n",
    "    if percentage > 90:\n",
    "        return 'A'\n",
    "    elif percentage > 80:\n",
    "        return 'B'\n",
    "    elif percentage >= 60:\n",
    "        return 'C'\n",
    "    else:\n",
    "        return 'D'\n",
    "\n",
    "# Accept percentage from user\n",
    "percentage = float(input(\"Enter percentage: \"))\n",
    "\n",
    "# Validate input (assuming percentage is between 0 and 100)\n",
    "if 0 <= percentage <= 100:\n",
    "    grade = get_grade(percentage)\n",
    "    print(f\"Grade: {grade}\")\n",
    "else:\n",
    "    print(\"Invalid percentage. Please enter a value between 0 and 100.\")\n"
   ]
  },
  {
   "cell_type": "markdown",
   "metadata": {},
   "source": [
    "2 Write a program to accept the cost price of a bike and display the road tax to be paid according to the following criteria:\n",
    "\n",
    "<table>\n",
    "  <tr>\n",
    "    <th>Tax</th>\n",
    "    <th>Cost Price (in Rs)</th>\n",
    "  </tr>\n",
    "  <tr>\n",
    "    <td>15%</td>\n",
    "    <td>&gt; 100000</td>\n",
    "  </tr>\n",
    "  <tr>\n",
    "    <td>10%</td>\n",
    "    <td>&gt; 50000 and &lt;= 100000</td>\n",
    "  </tr>\n",
    "  <tr>\n",
    "    <td>5%</td>\n",
    "    <td>&lt;= 50000</td>\n",
    "  </tr>\n",
    "</table>\n"
   ]
  },
  {
   "cell_type": "code",
   "execution_count": 2,
   "metadata": {},
   "outputs": [
    {
     "name": "stdout",
     "output_type": "stream",
     "text": [
      "The road tax to be paid is Rs 10000.00\n"
     ]
    }
   ],
   "source": [
    "def calculate_road_tax(cost_price):\n",
    "    if cost_price > 100000:\n",
    "        return 0.15 * cost_price\n",
    "    elif cost_price > 50000 and cost_price <= 100000:\n",
    "        return 0.10 * cost_price\n",
    "    elif cost_price <= 50000:\n",
    "        return 0.05 * cost_price\n",
    "\n",
    "# Accept cost price from user\n",
    "cost_price = float(input(\"Enter the cost price of the bike (in Rs): \"))\n",
    "\n",
    "# Validate input\n",
    "if cost_price >= 0:\n",
    "    road_tax = calculate_road_tax(cost_price)\n",
    "    print(f\"The road tax to be paid is Rs {road_tax:.2f}\")\n",
    "else:\n",
    "    print(\"Invalid cost price. Please enter a non-negative value.\")\n"
   ]
  },
  {
   "cell_type": "markdown",
   "metadata": {},
   "source": [
    "3 Accept any city from the user and display monuments of that city. \n",
    "<table>\n",
    "  <tr>\n",
    "    <th>City</th>\n",
    "    <th>Monument</th>\n",
    "  </tr>\n",
    "  <tr>\n",
    "    <td>Delhi</td>\n",
    "    <td>Red Fort</td>\n",
    "  </tr>\n",
    "  <tr>\n",
    "    <td>Agra</td>\n",
    "    <td>Taj Mahal</td>\n",
    "  </tr>\n",
    "  <tr>\n",
    "    <td>Jaipur</td>\n",
    "    <td>Jal Mahal</td>\n",
    "  </tr>\n",
    "</table>\n"
   ]
  },
  {
   "cell_type": "code",
   "execution_count": 3,
   "metadata": {},
   "outputs": [
    {
     "name": "stdout",
     "output_type": "stream",
     "text": [
      "The monument in Delhi is: Red Fort\n"
     ]
    }
   ],
   "source": [
    "def display_monuments(city):\n",
    "    monuments = {\n",
    "        \"Delhi\": \"Red Fort\",\n",
    "        \"Agra\": \"Taj Mahal\",\n",
    "        \"Jaipur\": \"Jal Mahal\"\n",
    "    }\n",
    "\n",
    "    if city in monuments:\n",
    "        return monuments[city]\n",
    "    else:\n",
    "        return \"Monument information not available for this city.\"\n",
    "\n",
    "# Accept city from user\n",
    "city = input(\"Enter a city: \")\n",
    "\n",
    "# Get the monument for the city\n",
    "monument = display_monuments(city)\n",
    "\n",
    "# Print the result\n",
    "print(f\"The monument in {city} is: {monument}\")\n"
   ]
  },
  {
   "cell_type": "markdown",
   "metadata": {},
   "source": [
    "\n",
    "4. Check how many times a given number can be divided by 3 before it is less than or equal to 10. \n"
   ]
  },
  {
   "cell_type": "code",
   "execution_count": 4,
   "metadata": {},
   "outputs": [
    {
     "name": "stdout",
     "output_type": "stream",
     "text": [
      "The number can be divided by 3 1 times before it is less than or equal to 10.\n"
     ]
    }
   ],
   "source": [
    "def count_divisions(number):\n",
    "    count = 0\n",
    "    while number > 10:\n",
    "        number /= 3\n",
    "        count += 1\n",
    "    return count\n",
    "\n",
    "# Accept a number from user\n",
    "number = int(input(\"Enter a number: \"))\n",
    "\n",
    "# Call the function to count divisions\n",
    "divisions = count_divisions(number)\n",
    "\n",
    "# Print the result\n",
    "print(f\"The number can be divided by 3 {divisions} times before it is less than or equal to 10.\")\n"
   ]
  },
  {
   "cell_type": "markdown",
   "metadata": {},
   "source": [
    "5. Why and When to Use while Loop in Python give a detailed description with example \n"
   ]
  },
  {
   "cell_type": "markdown",
   "metadata": {},
   "source": [
    "The `while` loop in Python is used when you want to execute a block of code repeatedly as long as a specified condition is true. It's useful when you don't know in advance how many times the code needs to be executed, and you want to keep executing it until a certain condition is met.\n",
    "\n",
    "**Syntax of a while loop:**\n",
    "\n",
    "```python\n",
    "while condition:\n",
    "    # Code block to be executed\n",
    "```\n",
    "\n",
    "**How it works:**\n",
    "1. The condition is evaluated before each iteration. If the condition is `True`, the code block inside the loop is executed.\n",
    "2. After the code block is executed, the condition is checked again. If it's still `True`, the loop continues. If it's `False`, the loop terminates.\n",
    "\n",
    "**When to use a while loop:**\n",
    "\n",
    "1. **When you don't know the exact number of iterations:** If you don't have a predetermined number of iterations and you want to repeat a task until a certain condition is met, a `while` loop is appropriate.\n",
    "\n",
    "2. **Working with user input:** When you want to keep prompting the user for input until a specific condition is satisfied.\n",
    "\n",
    "3. **Iterating over elements with an unknown length:** For example, when processing a list and you don't know how many elements it contains.\n",
    "\n",
    "4. **Simulating events:** In scenarios where you want a program to continuously perform a task until a specific condition occurs.\n",
    "\n",
    "**Example: Counting Down from 10**\n",
    "\n",
    "```python\n",
    "count = 10\n",
    "while count > 0:\n",
    "    print(count)\n",
    "    count -= 1\n",
    "```\n",
    "\n",
    "This program will print the numbers from 10 down to 1. It keeps executing the code block inside the `while` loop as long as `count` is greater than 0.\n",
    "\n",
    "**Example: User Input Validation**\n",
    "\n",
    "```python\n",
    "user_input = \"\"\n",
    "while user_input != \"exit\":\n",
    "    user_input = input(\"Enter 'exit' to quit: \")\n",
    "```\n",
    "\n",
    "This program prompts the user to input a value. It keeps asking for input until the user types \"exit\", at which point the loop terminates.\n",
    "\n",
    "**Caution: Infinite Loops**\n",
    "\n",
    "Be careful when using `while` loops, as if the condition never becomes `False`, it can result in an infinite loop, which will run indefinitely. It's important to ensure that the condition will eventually become `False` based on the logic within the loop."
   ]
  },
  {
   "cell_type": "markdown",
   "metadata": {},
   "source": [
    "6. Use a nested while loop to print 3 different patterns."
   ]
  },
  {
   "cell_type": "markdown",
   "metadata": {},
   "source": [
    "Certainly! Here are three different patterns printed using nested `while` loops:\n",
    "\n",
    "**Pattern 1:**\n",
    "\n",
    "```python\n",
    "# Pattern 1\n",
    "row = 1\n",
    "while row <= 5:\n",
    "    col = 1\n",
    "    while col <= row:\n",
    "        print(\"*\", end=\" \")\n",
    "        col += 1\n",
    "    print()\n",
    "    row += 1\n",
    "```\n",
    "\n",
    "Output:\n",
    "\n",
    "```\n",
    "* \n",
    "* * \n",
    "* * * \n",
    "* * * * \n",
    "* * * * *\n",
    "```\n",
    "\n",
    "**Pattern 2:**\n",
    "\n",
    "```python\n",
    "# Pattern 2\n",
    "row = 5\n",
    "while row >= 1:\n",
    "    col = 1\n",
    "    while col <= row:\n",
    "        print(col, end=\" \")\n",
    "        col += 1\n",
    "    print()\n",
    "    row -= 1\n",
    "```\n",
    "\n",
    "Output:\n",
    "\n",
    "```\n",
    "1 2 3 4 5 \n",
    "1 2 3 4 \n",
    "1 2 3 \n",
    "1 2 \n",
    "1 \n",
    "```\n",
    "\n",
    "**Pattern 3:**\n",
    "\n",
    "```python\n",
    "# Pattern 3\n",
    "row = 1\n",
    "while row <= 5:\n",
    "    col = 5\n",
    "    while col >= row:\n",
    "        print(col, end=\" \")\n",
    "        col -= 1\n",
    "    print()\n",
    "    row += 1\n",
    "```\n",
    "\n",
    "Output:\n",
    "\n",
    "```\n",
    "5 4 3 2 1 \n",
    "5 4 3 2 \n",
    "5 4 3 \n",
    "5 4 \n",
    "5 \n",
    "```\n",
    "\n",
    "These are three different patterns printed using nested `while` loops. Each pattern is created by adjusting the conditions and values in the loops. You can experiment with different conditions to create various patterns."
   ]
  },
  {
   "cell_type": "markdown",
   "metadata": {},
   "source": [
    "7. Reverse a while loop to display numbers from 10 to 1 "
   ]
  },
  {
   "cell_type": "code",
   "execution_count": 5,
   "metadata": {},
   "outputs": [
    {
     "name": "stdout",
     "output_type": "stream",
     "text": [
      "10\n",
      "9\n",
      "8\n",
      "7\n",
      "6\n",
      "5\n",
      "4\n",
      "3\n",
      "2\n",
      "1\n"
     ]
    }
   ],
   "source": [
    "count = 10\n",
    "while count >= 1:\n",
    "    print(count)\n",
    "    count -= 1\n"
   ]
  },
  {
   "cell_type": "markdown",
   "metadata": {},
   "source": []
  },
  {
   "cell_type": "markdown",
   "metadata": {},
   "source": []
  },
  {
   "cell_type": "markdown",
   "metadata": {},
   "source": []
  },
  {
   "cell_type": "code",
   "execution_count": null,
   "metadata": {},
   "outputs": [],
   "source": []
  }
 ],
 "metadata": {
  "kernelspec": {
   "display_name": "Python 3",
   "language": "python",
   "name": "python3"
  },
  "language_info": {
   "codemirror_mode": {
    "name": "ipython",
    "version": 3
   },
   "file_extension": ".py",
   "mimetype": "text/x-python",
   "name": "python",
   "nbconvert_exporter": "python",
   "pygments_lexer": "ipython3",
   "version": "3.11.5"
  }
 },
 "nbformat": 4,
 "nbformat_minor": 2
}
