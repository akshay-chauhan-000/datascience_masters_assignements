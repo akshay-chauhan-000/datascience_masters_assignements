{
 "cells": [
  {
   "cell_type": "markdown",
   "metadata": {},
   "source": [
    "Q1. You are writing code for a company. The requirement of the company is that you create a python\n",
    "function that will check whether the password entered by the user is correct or not. The function should\n",
    "take the password as input and return the string “Valid Password” if the entered password follows the\n",
    "below-given password guidelines else it should return “Invalid Password”.\n",
    "Note: 1. The Password should contain at least two uppercase letters and at least two lowercase letters.\n",
    "2. The Password should contain at least a number and three special characters.\n",
    "3. The length of the password should be 10 characters long."
   ]
  },
  {
   "cell_type": "code",
   "execution_count": 2,
   "metadata": {},
   "outputs": [
    {
     "name": "stdout",
     "output_type": "stream",
     "text": [
      "Invalid Password\n",
      "Invalid Password\n",
      "Invalid Password\n",
      "Invalid Password\n"
     ]
    }
   ],
   "source": [
    "def check_password(password):\n",
    "    # Check if the length is 10 characters\n",
    "    if len(password) != 10:\n",
    "        return \"Invalid Password\"\n",
    "\n",
    "    # Count the number of uppercase, lowercase, digits, and special characters\n",
    "    uppercase_count = sum(1 for char in password if char.isupper())\n",
    "    lowercase_count = sum(1 for char in password if char.islower())\n",
    "    digit_count = sum(1 for char in password if char.isdigit())\n",
    "    special_count = sum(1 for char in password if not char.isalnum())\n",
    "\n",
    "    # Check if all conditions are met\n",
    "    if uppercase_count >= 2 and lowercase_count >= 2 and digit_count >= 1 and special_count >= 3:\n",
    "        return \"Valid Password\"\n",
    "    else:\n",
    "        return \"Invalid Password\"\n",
    "\n",
    "# Test the function\n",
    "password1 = \"Abcdef123#\"\n",
    "password2 = \"Abcdef1234\"\n",
    "password3 = \"Abcdefg123\"\n",
    "password4 = \"Abcdef!@#1\"\n",
    "\n",
    "print(check_password(password1))  # Output: \"Valid Password\"\n",
    "print(check_password(password2))  # Output: \"Invalid Password\"\n",
    "print(check_password(password3))  # Output: \"Invalid Password\"\n",
    "print(check_password(password4))  # Output: \"Invalid Password\"\n"
   ]
  },
  {
   "cell_type": "markdown",
   "metadata": {},
   "source": [
    "Q2. Solve the below-given questions using at least one of the following:\n",
    "1. Lambda functioJ\n",
    "2. Filter functioJ\n",
    "3. Zap functioJ\n",
    "4. List ComprehensioI\n",
    "B Check if the string starts with a particular letterY\n",
    "B Check if the string is numericY\n",
    "B Sort a list of tuples having fruit names and their quantity. [(\"mango\",99),(\"orange\",80), (\"grapes\", 1000)-\n",
    "B Find the squares of numbers from 1 to 10Y\n",
    "B Find the cube root of numbers from 1 to 10Y\n",
    "B Check if a given number is evenY\n",
    "B Filter odd numbers from the given list.\n",
    "[1,2,3,4,5,6,7,8,9,10-\n",
    "B Sort a list of integers into positive and negative integers lists.\n",
    "[1,2,3,4,5,6,-1,-2,-3,-4,-5,0]"
   ]
  },
  {
   "cell_type": "markdown",
   "metadata": {},
   "source": [
    "Certainly! I'll provide solutions using the mentioned methods.\n",
    "\n",
    "1. Check if the string starts with a particular letter:\n",
    "\n",
    "   Using lambda function and `startswith` method:\n",
    "   ```python\n",
    "   starts_with_letter = lambda s, letter: s.startswith(letter)\n",
    "   result = starts_with_letter(\"Hello\", \"H\")\n",
    "   print(result)  # Output: True\n",
    "   ```\n",
    "\n",
    "2. Check if the string is numeric:\n",
    "\n",
    "   Using lambda function and `isnumeric` method:\n",
    "   ```python\n",
    "   is_numeric = lambda s: s.isnumeric()\n",
    "   result = is_numeric(\"123\")\n",
    "   print(result)  # Output: True\n",
    "   ```\n",
    "\n",
    "3. Sort a list of tuples having fruit names and their quantity:\n",
    "\n",
    "   Using list comprehension and lambda function:\n",
    "   ```python\n",
    "   fruit_list = [(\"mango\",99),(\"orange\",80), (\"grapes\", 1000)]\n",
    "   sorted_fruit_list = sorted(fruit_list, key=lambda x: x[1])\n",
    "   print(sorted_fruit_list)\n",
    "   ```\n",
    "\n",
    "4. Find the squares of numbers from 1 to 10:\n",
    "\n",
    "   Using list comprehension:\n",
    "   ```python\n",
    "   squares = [x**2 for x in range(1, 11)]\n",
    "   print(squares)\n",
    "   ```\n",
    "\n",
    "5. Find the cube root of numbers from 1 to 10:\n",
    "\n",
    "   Using list comprehension and `math` module:\n",
    "   ```python\n",
    "   import math\n",
    "   cube_roots = [round(math.pow(x, 1/3), 2) for x in range(1, 11)]\n",
    "   print(cube_roots)\n",
    "   ```\n",
    "\n",
    "6. Check if a given number is even:\n",
    "\n",
    "   Using lambda function and modulo operator:\n",
    "   ```python\n",
    "   is_even = lambda x: x % 2 == 0\n",
    "   result = is_even(4)\n",
    "   print(result)  # Output: True\n",
    "   ```\n",
    "\n",
    "7. Filter odd numbers from the given list:\n",
    "\n",
    "   Using `filter` function and lambda function:\n",
    "   ```python\n",
    "   numbers = [1,2,3,4,5,6,7,8,9,10]\n",
    "   odd_numbers = list(filter(lambda x: x % 2 != 0, numbers))\n",
    "   print(odd_numbers)\n",
    "   ```\n",
    "\n",
    "8. Sort a list of integers into positive and negative integers lists:\n",
    "\n",
    "   Using list comprehensions:\n",
    "   ```python\n",
    "   numbers = [1,2,3,4,5,6,-1,-2,-3,-4,-5,0]\n",
    "   positive_numbers = [x for x in numbers if x > 0]\n",
    "   negative_numbers = [x for x in numbers if x < 0]\n",
    "   print(\"Positive Numbers:\", positive_numbers)\n",
    "   print(\"Negative Numbers:\", negative_numbers)\n",
    "   ```"
   ]
  },
  {
   "cell_type": "code",
   "execution_count": null,
   "metadata": {},
   "outputs": [],
   "source": []
  },
  {
   "cell_type": "code",
   "execution_count": 1,
   "metadata": {},
   "outputs": [
    {
     "name": "stdout",
     "output_type": "stream",
     "text": [
      "0\n"
     ]
    }
   ],
   "source": []
  }
 ],
 "metadata": {
  "kernelspec": {
   "display_name": "Python 3",
   "language": "python",
   "name": "python3"
  },
  "language_info": {
   "codemirror_mode": {
    "name": "ipython",
    "version": 3
   },
   "file_extension": ".py",
   "mimetype": "text/x-python",
   "name": "python",
   "nbconvert_exporter": "python",
   "pygments_lexer": "ipython3",
   "version": "3.11.5"
  }
 },
 "nbformat": 4,
 "nbformat_minor": 2
}
